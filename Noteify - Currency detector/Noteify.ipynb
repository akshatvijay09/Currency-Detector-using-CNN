{
  "cells": [
    {
      "cell_type": "code",
      "execution_count": null,
      "metadata": {
        "colab": {
          "base_uri": "https://localhost:8080/",
          "height": 90
        },
        "id": "zfUplha39Mcx",
        "outputId": "46f6494e-edd7-47b5-e781-a9dcdedc089a"
      },
      "outputs": [],
      "source": [
        "from google.colab import files\n",
        "\n",
        "files.upload()"
      ]
    },
    {
      "cell_type": "code",
      "execution_count": null,
      "metadata": {
        "id": "Dp3m9WSC9Qjp"
      },
      "outputs": [],
      "source": [
        "! mkdir ~/.kaggle\n",
        "\n",
        "! cp kaggle.json ~/.kaggle/\n",
        "\n",
        "! chmod 600 ~/.kaggle/kaggle.json"
      ]
    },
    {
      "cell_type": "code",
      "execution_count": null,
      "metadata": {
        "colab": {
          "base_uri": "https://localhost:8080/"
        },
        "id": "EbNtRIRt9RPl",
        "outputId": "a327d1d1-bc29-45ff-f38b-f8980a663a37"
      },
      "outputs": [],
      "source": [
        "! kaggle datasets download -d vishalmane109/indian-currency-note-images-dataset-2020"
      ]
    },
    {
      "cell_type": "code",
      "execution_count": null,
      "metadata": {
        "colab": {
          "base_uri": "https://localhost:8080/"
        },
        "id": "8gVMkVf3-I7z",
        "outputId": "9ba673e2-5236-4129-e503-dcc812d69120"
      },
      "outputs": [],
      "source": [
        "! mkdir dataset\n",
        "\n",
        "! unzip indian-currency-note-images-dataset-2020.zip -d dataset"
      ]
    },
    {
      "cell_type": "code",
      "execution_count": null,
      "metadata": {
        "id": "EAj5MAplgKyX"
      },
      "outputs": [],
      "source": [
        "import numpy as np\n",
        "import pandas as pd\n",
        "import matplotlib.pyplot as plt\n",
        "from pathlib import Path\n",
        "import os\n",
        "%matplotlib inline"
      ]
    },
    {
      "cell_type": "code",
      "execution_count": null,
      "metadata": {
        "id": "ZnOHo6xRhLou"
      },
      "outputs": [],
      "source": [
        "import tensorflow as tf\n",
        "from tensorflow import keras\n",
        "from tensorflow.keras.models import Sequential\n",
        "from tensorflow.keras.layers import Dense,Conv2D,MaxPooling2D,Dropout,Flatten\n",
        "from pathlib import Path"
      ]
    },
    {
      "cell_type": "code",
      "execution_count": null,
      "metadata": {
        "id": "gRz0dxGPhRrg"
      },
      "outputs": [],
      "source": [
        "from tensorflow.keras.preprocessing.image import ImageDataGenerator\n",
        "\n",
        "data_agumentation=ImageDataGenerator(rescale=0./255,\n",
        "                             shear_range=0.2,\n",
        "                             zoom_range=0.2,\n",
        "                             horizontal_flip=True,\n",
        "                             vertical_flip=True\n",
        "\n",
        ")"
      ]
    },
    {
      "cell_type": "code",
      "execution_count": null,
      "metadata": {
        "colab": {
          "base_uri": "https://localhost:8080/"
        },
        "id": "cnCEmvenhYz9",
        "outputId": "d2e91aa5-2c7e-4aea-df27-209ec8ec5b35"
      },
      "outputs": [],
      "source": [
        "train_data=data_agumentation.flow_from_directory(directory='/content/dataset/Indian currency dataset v1/training',\n",
        "                                                 target_size=(256,256),\n",
        "                                                 class_mode='categorical',\n",
        "                                                batch_size=32\n",
        "                                               )"
      ]
    },
    {
      "cell_type": "code",
      "execution_count": null,
      "metadata": {
        "colab": {
          "base_uri": "https://localhost:8080/"
        },
        "id": "TLz-JR_diRRK",
        "outputId": "006c4e23-02dc-4eb2-ba5d-3632a7732657"
      },
      "outputs": [],
      "source": [
        "val_data=ImageDataGenerator().flow_from_directory(directory='/content/dataset/Indian currency dataset v1/validation',\n",
        "                                                      target_size=(256,256),\n",
        "                                                       class_mode='categorical'\n",
        "                                                      )"
      ]
    },
    {
      "cell_type": "code",
      "execution_count": null,
      "metadata": {
        "colab": {
          "base_uri": "https://localhost:8080/"
        },
        "id": "g09L9hgvimWa",
        "outputId": "3a0bb162-d3bf-478b-99e6-1cbcdde1e30c"
      },
      "outputs": [],
      "source": [
        "from tensorflow.keras.callbacks import ModelCheckpoint,EarlyStopping\n",
        "\n",
        "checkpoint=ModelCheckpoint(\"currency_detector_smal_model.h5\", monitor='val_loss',verbose=1, save_best_only=True,save_weights_only=False,mode='auto', period=1)\n",
        "\n",
        "early = EarlyStopping(monitor='val_loss', min_delta=0, patience=10, verbose=1, mode='auto')"
      ]
    },
    {
      "cell_type": "code",
      "execution_count": null,
      "metadata": {
        "colab": {
          "base_uri": "https://localhost:8080/"
        },
        "id": "yKf0tyILi_SJ",
        "outputId": "88b3d2e4-b98e-41e7-da32-48fc526deb97"
      },
      "outputs": [],
      "source": [
        "from tensorflow.keras.applications import ResNet50\n",
        "\n",
        "# total number of classes (7 diffferent currency and 1 background class)\n",
        "num_classes = 8\n",
        "\n",
        "#define the mdel\n",
        "my_new_model = Sequential()\n",
        "\n",
        "# add the resnet to new defined model\n",
        "my_new_model.add(ResNet50(include_top=False, pooling='avg',weights='imagenet'))\n",
        "\n",
        "#last fully connected layer with softmax as a activation function\n",
        "my_new_model.add(Dense(num_classes, activation='softmax'))\n",
        "\n",
        "my_new_model.layers[0].trainable = False"
      ]
    },
    {
      "cell_type": "code",
      "execution_count": null,
      "metadata": {
        "id": "S_pBAkrdkMxJ"
      },
      "outputs": [],
      "source": [
        "my_new_model.compile(optimizer='adam',loss='categorical_crossentropy',metrics=['accuracy'])"
      ]
    },
    {
      "cell_type": "code",
      "execution_count": null,
      "metadata": {
        "colab": {
          "base_uri": "https://localhost:8080/"
        },
        "id": "Ddt-8VzLkSUr",
        "outputId": "6e9b8b2a-fdba-4657-af4a-f424b6be1ccd"
      },
      "outputs": [],
      "source": [
        "my_new_model.fit_generator(\n",
        "        train_data,\n",
        "        epochs = 50,\n",
        "        validation_data=val_data,\n",
        "        callbacks=[checkpoint,early])"
      ]
    },
    {
      "cell_type": "code",
      "execution_count": null,
      "metadata": {
        "id": "OIYBCLxQtT5M"
      },
      "outputs": [],
      "source": [
        "model_json = my_new_model.to_json()\n",
        "with open(\"resnet_50_model_epoch.json\", \"w\") as json_file:\n",
        "    json_file.write(model_json)"
      ]
    },
    {
      "cell_type": "code",
      "execution_count": null,
      "metadata": {
        "id": "Khx9BaKHoeJq"
      },
      "outputs": [],
      "source": [
        "class_labels = [\n",
        "    '10','100','20','200','2000','50','500','Background'\n",
        "]"
      ]
    },
    {
      "cell_type": "code",
      "execution_count": null,
      "metadata": {
        "id": "dpw8azQBo5QP"
      },
      "outputs": [],
      "source": [
        "from tensorflow.keras.preprocessing import image\n",
        "\n",
        "def prediction(file_name):\n",
        "    img = image.load_img(file_name, target_size=(256,256))\n",
        "\n",
        "    image_to_test = image.img_to_array(img)\n",
        "\n",
        "    # Add a fourth dimension to the image (since Keras expects a list of images, not a single image)\n",
        "    list_of_images = np.expand_dims(image_to_test, axis=0)\n",
        "\n",
        "    # Make a prediction using the model\n",
        "    results = my_new_model.predict(list_of_images)\n",
        "\n",
        "    # Since we are only testing one image, we only need to check the first result\n",
        "    single_result = results[0]\n",
        "    print(single_result)\n",
        "    # We will get a likelihood score for all 10 possible classes. Find out which class had the highest score.\n",
        "    most_likely_class_index = int(np.argmax(single_result))\n",
        "    class_likelihood = single_result[most_likely_class_index]\n",
        "\n",
        "    # Get the name of the most likely class\n",
        "    class_label = class_labels[most_likely_class_index]\n",
        "\n",
        "    # Print the result\n",
        "    print(file_name)\n",
        "    print(\"This is image of a {} - Likelihood: {:2f}\".format(class_label, class_likelihood))"
      ]
    },
    {
      "cell_type": "code",
      "execution_count": null,
      "metadata": {
        "colab": {
          "base_uri": "https://localhost:8080/",
          "height": 522
        },
        "id": "PnPHQKmc0Ups",
        "outputId": "07fc5ed1-a772-4e11-f479-8685f1a9d3d8"
      },
      "outputs": [],
      "source": [
        "path = '/content/dataset/Indian currency dataset v1/test/500__17.jpg'\n",
        "\n",
        "img = image.load_img(path, target_size=(256,256))\n",
        "plt.imshow(img)\n",
        "\n",
        "#predict the currecy\n",
        "\n",
        "prediction(path)"
      ]
    },
    {
      "cell_type": "code",
      "execution_count": null,
      "metadata": {
        "colab": {
          "base_uri": "https://localhost:8080/"
        },
        "id": "AYIuvuIG0cl-",
        "outputId": "f33ff86a-0cab-4144-8d77-7a34e15b9857"
      },
      "outputs": [],
      "source": [
        "!pip install gTTS\n",
        "\n",
        "#pyttsx3 is a text-to-speech conversion library in Python.\n",
        "#Unlike alternative libraries, it works offline, and is compatible with both Python 2 and 3.\n",
        "\n",
        "!pip install pyttsx3\n",
        "!pip install pydub"
      ]
    },
    {
      "cell_type": "code",
      "execution_count": null,
      "metadata": {
        "id": "He6EXz9mHrW2"
      },
      "outputs": [],
      "source": [
        "from gtts import gTTS\n",
        "from tensorflow.keras.preprocessing import image\n",
        "import os\n",
        "import pyttsx3\n",
        "\n",
        "\n",
        "def prediction(file_name):\n",
        "    img = image.load_img(file_name, target_size=(256,256))\n",
        "\n",
        "    image_to_test = image.img_to_array(img)\n",
        "\n",
        "    #since Keras expects a list of images, not a single image,\n",
        "    # Add a fourth dimension to the image\n",
        "\n",
        "    list_of_images = np.expand_dims(image_to_test, axis=0)\n",
        "\n",
        "    # Make a prediction using the model\n",
        "    results = my_new_model.predict(list_of_images)\n",
        "\n",
        "    # Since we are only testing one image, we only need to check the first result\n",
        "    single_result = results[0]\n",
        "\n",
        "    # We will get a likelihood score for all  possible classes.\n",
        "    # Find out which class had the highest score.\n",
        "    # the class with highest likelihood is predicted as the result.\n",
        "\n",
        "    most_likely_class_index = int(np.argmax(single_result))\n",
        "    class_likelihood = single_result[most_likely_class_index]\n",
        "\n",
        "    # Get the name of the most likely class\n",
        "    class_label = class_labels[most_likely_class_index]\n",
        "\n",
        "    # Print the result\n",
        "    print(file_name)\n",
        "    print(\"This is image of a {} - Likelihood: {: .2f}\".format(class_label, class_likelihood))\n",
        "\n",
        "    # convert the actual prediction result text into audio file.\n",
        "    tts(class_label,class_likelihood)"
      ]
    },
    {
      "cell_type": "code",
      "execution_count": null,
      "metadata": {
        "id": "VHixRt6xHyyq"
      },
      "outputs": [],
      "source": [
        "from pydub import AudioSegment\n",
        "import IPython\n",
        "\n",
        "def tts(class_label,class_likelihood):\n",
        "    language='en'\n",
        "\n",
        "    # if no currency detected or uploaded image is  bagkground\n",
        "    if(class_label==\"Background\"):\n",
        "\n",
        "        mytext=' sorry but i am detecting only  the'+class_label+', please hold the note under the camera.'\n",
        "    else:\n",
        "        mytext=\"This is  {} Rs note, and I am  {: .2f} % sure of it\".format(class_label, class_likelihood*100)\n",
        "\n",
        "    # gTTS() converts text into the audio supports multiple languages.\n",
        "    myobj = gTTS(text=mytext, lang=language, slow=False)\n",
        "\n",
        "    #store audio result\n",
        "    file='result.mp3'\n",
        "    myobj.save(file)"
      ]
    },
    {
      "cell_type": "code",
      "execution_count": null,
      "metadata": {
        "colab": {
          "base_uri": "https://localhost:8080/",
          "height": 487
        },
        "id": "gbJxr7ZFH3TL",
        "outputId": "d8350d68-aa4c-4661-e1f5-a4f5b9f6116a"
      },
      "outputs": [],
      "source": [
        "file_to_predict=\"/content/dataset/Indian currency dataset v1/test/20__350.jpg\"\n",
        "\n",
        "# display currency image\n",
        "img = image.load_img(file_to_predict, target_size=(256,256))\n",
        "plt.imshow(img)\n",
        "\n",
        "#predict the currecy\n",
        "\n",
        "prediction(file_to_predict)"
      ]
    },
    {
      "cell_type": "code",
      "execution_count": null,
      "metadata": {
        "colab": {
          "base_uri": "https://localhost:8080/",
          "height": 75
        },
        "id": "8mHBUl_OH-qB",
        "outputId": "8efe5410-7dd9-4840-af38-8b88ecb3eefa"
      },
      "outputs": [],
      "source": [
        "file='./result.mp3'\n",
        "\n",
        "IPython.display.Audio(file)"
      ]
    },
    {
      "cell_type": "code",
      "execution_count": null,
      "metadata": {
        "id": "j6R-LJP9ItIQ"
      },
      "outputs": [],
      "source": []
    }
  ],
  "metadata": {
    "accelerator": "GPU",
    "colab": {
      "gpuType": "T4",
      "provenance": []
    },
    "kernelspec": {
      "display_name": "Python 3",
      "name": "python3"
    },
    "language_info": {
      "name": "python"
    }
  },
  "nbformat": 4,
  "nbformat_minor": 0
}
